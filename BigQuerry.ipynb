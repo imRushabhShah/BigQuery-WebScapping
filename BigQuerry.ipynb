{
 "cells": [
  {
   "cell_type": "markdown",
   "metadata": {},
   "source": [
    "# Big query Implementation "
   ]
  },
  {
   "cell_type": "markdown",
   "metadata": {},
   "source": [
    "importing the library and setting key for bigquerry data set (key are confidential sould not be shared publicly) "
   ]
  },
  {
   "cell_type": "code",
   "execution_count": 1,
   "metadata": {},
   "outputs": [],
   "source": [
    "from google.cloud import bigquery\n",
    "bq_client = bigquery.Client.from_service_account_json('private/alpha-8448e-23ac85082066.json')\n"
   ]
  },
  {
   "cell_type": "markdown",
   "metadata": {},
   "source": [
    "basic function to run querry for the data set"
   ]
  },
  {
   "cell_type": "code",
   "execution_count": 2,
   "metadata": {},
   "outputs": [],
   "source": [
    "def make_query(query):\n",
    "    query_job = bq_client.query(query)\n",
    "    print(\"Query State:\",query_job.state)\n",
    "    return(query_job.result())"
   ]
  },
  {
   "cell_type": "markdown",
   "metadata": {},
   "source": [
    "**Demo1:** Writing querry to show count out cities in 10 states from our city 101 table "
   ]
  },
  {
   "cell_type": "code",
   "execution_count": 3,
   "metadata": {},
   "outputs": [
    {
     "name": "stdout",
     "output_type": "stream",
     "text": [
      "Query State: RUNNING\n"
     ]
    },
    {
     "data": {
      "text/plain": [
       "[Row(('Iowa', 3), {'state': 0, 'City_Count': 1}),\n",
       " Row(('Ohio', 6), {'state': 0, 'City_Count': 1}),\n",
       " Row(('Utah', 4), {'state': 0, 'City_Count': 1}),\n",
       " Row(('Idaho', 2), {'state': 0, 'City_Count': 1}),\n",
       " Row(('Texas', 40), {'state': 0, 'City_Count': 1}),\n",
       " Row(('Alaska', 1), {'state': 0, 'City_Count': 1}),\n",
       " Row(('Hawaii', 1), {'state': 0, 'City_Count': 1}),\n",
       " Row(('Kansas', 5), {'state': 0, 'City_Count': 1}),\n",
       " Row(('Nevada', 5), {'state': 0, 'City_Count': 1}),\n",
       " Row(('Oregon', 5), {'state': 0, 'City_Count': 1})]"
      ]
     },
     "execution_count": 3,
     "metadata": {},
     "output_type": "execute_result"
    }
   ],
   "source": [
    "query = \"SELECT  state, count(city) as City_Count FROM `alpha-8448e.USCities.Cities101` group by state limit 10;\"\n",
    "result = list(make_query(query))\n",
    "result"
   ]
  },
  {
   "cell_type": "markdown",
   "metadata": {},
   "source": [
    "**Demo2:** Writing querry to show Average city area in 10 states from our city 101 table"
   ]
  },
  {
   "cell_type": "code",
   "execution_count": 4,
   "metadata": {},
   "outputs": [
    {
     "name": "stdout",
     "output_type": "stream",
     "text": [
      "Query State: RUNNING\n"
     ]
    },
    {
     "data": {
      "text/plain": [
       "[Row(('Iowa', 74.19999999999999), {'state': 0, 'AVG_CITY_AREA_in_miles': 1}),\n",
       " Row(('Ohio', 95.33333333333334), {'state': 0, 'AVG_CITY_AREA_in_miles': 1}),\n",
       " Row(('Utah', 55.175), {'state': 0, 'AVG_CITY_AREA_in_miles': 1}),\n",
       " Row(('Idaho', 55.949999999999996), {'state': 0, 'AVG_CITY_AREA_in_miles': 1}),\n",
       " Row(('Texas', 117.73499999999999), {'state': 0, 'AVG_CITY_AREA_in_miles': 1}),\n",
       " Row(('Alaska', 1706.6), {'state': 0, 'AVG_CITY_AREA_in_miles': 1}),\n",
       " Row(('Hawaii', 60.5), {'state': 0, 'AVG_CITY_AREA_in_miles': 1}),\n",
       " Row(('Kansas', 96.53999999999999), {'state': 0, 'AVG_CITY_AREA_in_miles': 1}),\n",
       " Row(('Nevada', 96.06), {'state': 0, 'AVG_CITY_AREA_in_miles': 1}),\n",
       " Row(('Oregon', 54.9), {'state': 0, 'AVG_CITY_AREA_in_miles': 1})]"
      ]
     },
     "execution_count": 4,
     "metadata": {},
     "output_type": "execute_result"
    }
   ],
   "source": [
    "query = \"SELECT  state,AVG(area_in_miles) as AVG_CITY_AREA_in_miles FROM `alpha-8448e.USCities.Cities101` group by state limit 10;\"\n",
    "result = list(make_query(query))\n",
    "result"
   ]
  },
  {
   "cell_type": "code",
   "execution_count": null,
   "metadata": {},
   "outputs": [],
   "source": []
  }
 ],
 "metadata": {
  "kernelspec": {
   "display_name": "Python [conda env:py36]",
   "language": "python",
   "name": "conda-env-py36-py"
  },
  "language_info": {
   "codemirror_mode": {
    "name": "ipython",
    "version": 3
   },
   "file_extension": ".py",
   "mimetype": "text/x-python",
   "name": "python",
   "nbconvert_exporter": "python",
   "pygments_lexer": "ipython3",
   "version": "3.6.7"
  }
 },
 "nbformat": 4,
 "nbformat_minor": 2
}
