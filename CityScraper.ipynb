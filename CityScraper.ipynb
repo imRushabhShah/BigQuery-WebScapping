{
 "cells": [
  {
   "cell_type": "markdown",
   "metadata": {},
   "source": [
    "# Web scrapping cities data "
   ]
  },
  {
   "cell_type": "markdown",
   "metadata": {},
   "source": [
    "## creating a generic read from the url and target the area to be parsed"
   ]
  },
  {
   "cell_type": "code",
   "execution_count": 1,
   "metadata": {},
   "outputs": [],
   "source": [
    "from bs4 import BeautifulSoup as bsoup\n",
    "from urllib.request import urlopen\n",
    "import re\n",
    "urlbase = 'https://en.wikipedia.org'\n",
    "url = 'https://en.wikipedia.org/wiki/List_of_United_States_cities_by_population'\n",
    "\n",
    "\n",
    "def readUrl(url):\n",
    "    html = urlopen(url)\n",
    "    bsObj = bsoup(html.read(),'html.parser')\n",
    "    return bsObj\n",
    "\n",
    "def infoBoxScraper(link):\n",
    "    bsObj = readUrl(link)\n",
    "    target_table = bsObj.find_all('table',{\"class\":\"infobox\"})[0]\n",
    "    return target_table\n"
   ]
  },
  {
   "cell_type": "markdown",
   "metadata": {},
   "source": [
    "Here we are calling all the main url and using beautifull soup library to detect the target table "
   ]
  },
  {
   "cell_type": "code",
   "execution_count": 2,
   "metadata": {},
   "outputs": [],
   "source": [
    "main_page = readUrl(url)\n",
    "# locating the target page into html formate\n",
    "table = main_page.find_all('table',{\"class\":\"wikitable sortable\"})[0]\n",
    "# locating target table which contains all cities name\n",
    "\n",
    "rows = table.find_all('tr')\n"
   ]
  },
  {
   "cell_type": "markdown",
   "metadata": {},
   "source": [
    "Now the we understand the data and each cells how data is stored and formulate our techniques to extract the necessary information. There is always a pattern in an the same columns"
   ]
  },
  {
   "cell_type": "code",
   "execution_count": 9,
   "metadata": {},
   "outputs": [
    {
     "name": "stdout",
     "output_type": "stream",
     "text": [
      "New York City, Los Angeles, Chicago, Houston, Phoenix, Philadelphia, San Antonio, San Diego, Dallas, San Jose, Austin, Jacksonville, Fort Worth, Columbus, San Francisco, Charlotte, Indianapolis, Seattle, Denver, Washington, D.C., Boston, El Paso, Detroit, Nashville, Portland, Memphis, Oklahoma City, Las Vegas, Louisville, Baltimore, Milwaukee, Albuquerque, Tucson, Fresno, Mesa, Sacramento, Atlanta, Kansas City, Colorado Springs, Miami, Raleigh, Omaha, Long Beach, Virginia Beach, Oakland, Minneapolis, Tulsa, Arlington, Tampa, New Orleans, Wichita, Cleveland, Bakersfield, Aurora, Anaheim, Honolulu, Santa Ana, Riverside, Corpus Christi, Lexington, Stockton, Henderson, Saint Paul, St. Louis, Cincinnati, Pittsburgh, Greensboro, Anchorage, Plano, Lincoln, Orlando, Irvine, Newark, Toledo, Durham, Chula Vista, Fort Wayne, Jersey City, St. Petersburg, Laredo, Madison, Chandler, Buffalo, Lubbock, Scottsdale, Reno, Glendale, Gilbert, Winston–Salem, North Las Vegas, Norfolk, Chesapeake, Garland, Irving, Hialeah, Fremont, Boise, Richmond, Baton Rouge, Spokane, Des Moines, Tacoma, San Bernardino, Modesto, Fontana, Santa Clarita, Birmingham, Oxnard, Fayetteville, Moreno Valley, Rochester, Glendale, Huntington Beach, Salt Lake City, Grand Rapids, Amarillo, Yonkers, Aurora, Montgomery, Akron, Little Rock, Huntsville, Augusta, Port St. Lucie, Grand Prairie, Columbus, Tallahassee, Overland Park, Tempe, McKinney, Mobile, Cape Coral, Shreveport, Frisco, Knoxville, Worcester, Brownsville, Vancouver, Fort Lauderdale, Sioux Falls, Ontario, Chattanooga, Providence, Newport News, Rancho Cucamonga, Santa Rosa, Oceanside, Salem, Elk Grove, Garden Grove, Pembroke Pines, Peoria, Eugene, Corona, Cary, Springfield, Fort Collins, Jackson, Alexandria, Hayward, Lancaster, Lakewood, Clarksville, Palmdale, Salinas, Springfield, Hollywood, Pasadena, Sunnyvale, Macon, Kansas City, Pomona, Escondido, Killeen, Naperville, Joliet, Bellevue, Rockford, Savannah, Paterson, Torrance, Bridgeport, McAllen, Mesquite, Syracuse, Midland, Pasadena, Murfreesboro, Miramar, Dayton, Fullerton, Olathe, Orange, Thornton, Roseville, Denton, Waco, Surprise, Carrollton, West Valley City, Charleston, Warren, Hampton, Gainesville, Visalia, Coral Springs, Columbia, Cedar Rapids, Sterling Heights, New Haven, Stamford, Concord, Kent, Santa Clara, Elizabeth, Round Rock, Thousand Oaks, Lafayette, Athens, Topeka, Simi Valley, Fargo, Norman, Columbia, Abilene, Wilmington, Hartford, Victorville, Pearland, Vallejo, Ann Arbor, Berkeley, Allentown, Richardson, Odessa, Arvada, Cambridge, Sugar Land, Beaumont, Lansing, Evansville, Rochester, Independence, Fairfield, Provo, Clearwater, College Station, West Jordan, Carlsbad, El Monte, Murrieta, Temecula, Springfield, Palm Bay, Costa Mesa, Westminster, North Charleston, Miami Gardens, Manchester, High Point, Downey, Clovis, Pompano Beach, Pueblo, Elgin, Lowell, Antioch, West Palm Beach, Peoria, Everett, Ventura, Centennial, Lakeland, Gresham, Richmond, Billings, Inglewood, Broken Arrow, Sandy Springs, Jurupa Valley, Hillsboro, Waterbury, Santa Maria, Boulder, Greeley, Daly City, Meridian, Lewisville, Davie, West Covina, League City, Tyler, Norwalk, San Mateo, Green Bay, Wichita Falls, Sparks, Lakewood, Burbank, Rialto, Allen, El Cajon, Las Cruces, Renton, Davenport, South Bend, Vista, Tuscaloosa, Clinton, Edison, Woodbridge, San Angelo, Kenosha, Vacaville, "
     ]
    }
   ],
   "source": [
    "data={'city':[], 'state':[], 'population_2018':[], 'population_2010':[], 'change':[],\n",
    "      'area_in_miles':[], 'area_in_kms':[], 'population_density_in_miles':[], 'population_density_in_kms':[],\n",
    "     'location':[],'wiki_url':[],'mayor':[],'website':[]}\n",
    "header = (list) (data.keys())\n",
    "for row in rows[1:]:\n",
    "    cells = row.find_all('td')\n",
    "    \n",
    "    if cells[1].i and cells[1].i.a:\n",
    "        wikiurl = urlbase+cells[1].i.a['href']\n",
    "    else :\n",
    "        wikiurl = urlbase+cells[1].a['href']\n",
    "    data['wiki_url'].append(wikiurl)\n",
    "    \n",
    "    for i in range(1,len(cells)):\n",
    "        cell = cells[i]\n",
    "        if i == 1:\n",
    "            while str(cell)[0] == '<':\n",
    "                cell = cell.contents[0]\n",
    "            data[header[i-1]].append(cell)\n",
    "            print(cell,end=\", \")\n",
    "        elif i == 7 or i==9:\n",
    "            nums = re.findall('[\\.\\d]+',re.sub(',','',cell.contents[0]))\n",
    "            if len(nums)>0:\n",
    "                cell = float(nums[0])\n",
    "            else:\n",
    "                cell = None\n",
    "            data[header[i-1]].append(cell)\n",
    "#             print(cell,end=\", \")\n",
    "        elif i == 10:\n",
    "            res = ''\n",
    "            res +=cell.contents[0].contents[0].contents[0].contents[0].contents[0].contents[0].contents[0]+' '\n",
    "            res += cell.contents[0].contents[0].contents[0].contents[0].contents[0].contents[2].contents[0]\n",
    "            data[header[i-1]].append(res)\n",
    "#             print(res)\n",
    "        else:\n",
    "            while str(cell)[0] == '<':\n",
    "\n",
    "                if cell.contents[-1] == '\\n' :\n",
    "                    cell = cell.contents[-2]\n",
    "                else:\n",
    "                    cell = cell.contents[-1]\n",
    "            cell = cell.strip('\\n')\n",
    "            \n",
    "            if i in [3,4,5,6,8]:\n",
    "                nums = re.findall('[\\.\\d]+',re.sub(',','',cell))\n",
    "                if len(nums)>0:\n",
    "                    cell = float(nums[0])\n",
    "                else:\n",
    "                    cell = None\n",
    "            data[header[i-1]].append(cell)\n",
    "#             print(cell,end=\", \")\n",
    "    \n",
    "    #  here we want to use the information learned from the wiki links of each cities and \n",
    "    #  use it to navigate to infobox of each city\n",
    "    table = infoBoxScraper(wikiurl)\n",
    "    website = None\n",
    "    mayor = None\n",
    "    for cell in table.contents[0].contents:\n",
    "        var = (re.sub('<[^<]+?>',\"****\",str(cell)))\n",
    "        #  here we assume **** would be a unique pattern and not consist in the infobox data\n",
    "        info = [x for x in (var.split('****')) if x !=\"\"]\n",
    "        if 'Website' in info:\n",
    "            info.remove('Website')\n",
    "            for i in info:\n",
    "                m = re.findall('[\\w]+\\.[\\w\\./-]+',i)\n",
    "                if len(m)>0:\n",
    "                    website = m[0]\n",
    "                    break\n",
    "            # many time the info box stores a href link which we are unable to detect             \n",
    "#             print('website found',website)\n",
    "        elif 'Mayor' in info:\n",
    "            info.pop(0)\n",
    "            info.remove('Mayor')\n",
    "            mayor = info[0]\n",
    "#             print('Mayor found ',mayor )\n",
    "    data['mayor'].append(mayor)\n",
    "    data['website'].append(website)\n",
    "            \n",
    "        "
   ]
  },
  {
   "cell_type": "markdown",
   "metadata": {},
   "source": [
    "Converting to csv file so that we can upload to googles bigQuerry"
   ]
  },
  {
   "cell_type": "code",
   "execution_count": 4,
   "metadata": {},
   "outputs": [],
   "source": [
    "import pandas as pd\n",
    "dataframe = pd.DataFrame.from_dict(data)\n",
    "dataframe.to_csv('cities.csv')"
   ]
  },
  {
   "cell_type": "code",
   "execution_count": null,
   "metadata": {},
   "outputs": [],
   "source": []
  },
  {
   "cell_type": "code",
   "execution_count": 7,
   "metadata": {},
   "outputs": [
    {
     "ename": "DefaultCredentialsError",
     "evalue": "Could not automatically determine credentials. Please set GOOGLE_APPLICATION_CREDENTIALS or explicitly create credentials and re-run the application. For more information, please see https://cloud.google.com/docs/authentication/getting-started",
     "output_type": "error",
     "traceback": [
      "\u001b[0;31m---------------------------------------------------------------------------\u001b[0m",
      "\u001b[0;31mDefaultCredentialsError\u001b[0m                   Traceback (most recent call last)",
      "\u001b[0;32m<ipython-input-7-97ea1d4b15a0>\u001b[0m in \u001b[0;36m<module>\u001b[0;34m\u001b[0m\n\u001b[1;32m      1\u001b[0m \u001b[0;32mfrom\u001b[0m \u001b[0mgoogle\u001b[0m\u001b[0;34m.\u001b[0m\u001b[0mcloud\u001b[0m \u001b[0;32mimport\u001b[0m \u001b[0mbigquery\u001b[0m\u001b[0;34m\u001b[0m\u001b[0;34m\u001b[0m\u001b[0m\n\u001b[0;32m----> 2\u001b[0;31m \u001b[0mclient\u001b[0m \u001b[0;34m=\u001b[0m \u001b[0mbigquery\u001b[0m\u001b[0;34m.\u001b[0m\u001b[0mClient\u001b[0m\u001b[0;34m(\u001b[0m\u001b[0mproject\u001b[0m\u001b[0;34m=\u001b[0m\u001b[0;34m'alpha-8448e'\u001b[0m\u001b[0;34m)\u001b[0m\u001b[0;34m\u001b[0m\u001b[0;34m\u001b[0m\u001b[0m\n\u001b[0m\u001b[1;32m      3\u001b[0m \u001b[0mquery\u001b[0m \u001b[0;34m=\u001b[0m \u001b[0;34m\"SELECT....\"\u001b[0m\u001b[0;34m\u001b[0m\u001b[0;34m\u001b[0m\u001b[0m\n\u001b[1;32m      4\u001b[0m \u001b[0mdataset\u001b[0m \u001b[0;34m=\u001b[0m \u001b[0mclient\u001b[0m\u001b[0;34m.\u001b[0m\u001b[0mdataset\u001b[0m\u001b[0;34m(\u001b[0m\u001b[0;34m'USCities'\u001b[0m\u001b[0;34m)\u001b[0m\u001b[0;34m\u001b[0m\u001b[0;34m\u001b[0m\u001b[0m\n\u001b[1;32m      5\u001b[0m \u001b[0mtable\u001b[0m \u001b[0;34m=\u001b[0m \u001b[0mdataset\u001b[0m\u001b[0;34m.\u001b[0m\u001b[0mtable\u001b[0m\u001b[0;34m(\u001b[0m\u001b[0mname\u001b[0m\u001b[0;34m=\u001b[0m\u001b[0;34m'Cities101'\u001b[0m\u001b[0;34m)\u001b[0m\u001b[0;34m\u001b[0m\u001b[0;34m\u001b[0m\u001b[0m\n",
      "\u001b[0;32m~/anaconda3/envs/py36/lib/python3.6/site-packages/google/cloud/bigquery/client.py\u001b[0m in \u001b[0;36m__init__\u001b[0;34m(self, project, credentials, _http, location, default_query_job_config, client_info)\u001b[0m\n\u001b[1;32m    157\u001b[0m     ):\n\u001b[1;32m    158\u001b[0m         super(Client, self).__init__(\n\u001b[0;32m--> 159\u001b[0;31m             \u001b[0mproject\u001b[0m\u001b[0;34m=\u001b[0m\u001b[0mproject\u001b[0m\u001b[0;34m,\u001b[0m \u001b[0mcredentials\u001b[0m\u001b[0;34m=\u001b[0m\u001b[0mcredentials\u001b[0m\u001b[0;34m,\u001b[0m \u001b[0m_http\u001b[0m\u001b[0;34m=\u001b[0m\u001b[0m_http\u001b[0m\u001b[0;34m\u001b[0m\u001b[0;34m\u001b[0m\u001b[0m\n\u001b[0m\u001b[1;32m    160\u001b[0m         )\n\u001b[1;32m    161\u001b[0m         \u001b[0mself\u001b[0m\u001b[0;34m.\u001b[0m\u001b[0m_connection\u001b[0m \u001b[0;34m=\u001b[0m \u001b[0mConnection\u001b[0m\u001b[0;34m(\u001b[0m\u001b[0mself\u001b[0m\u001b[0;34m,\u001b[0m \u001b[0mclient_info\u001b[0m\u001b[0;34m=\u001b[0m\u001b[0mclient_info\u001b[0m\u001b[0;34m)\u001b[0m\u001b[0;34m\u001b[0m\u001b[0;34m\u001b[0m\u001b[0m\n",
      "\u001b[0;32m~/anaconda3/envs/py36/lib/python3.6/site-packages/google/cloud/client.py\u001b[0m in \u001b[0;36m__init__\u001b[0;34m(self, project, credentials, _http)\u001b[0m\n\u001b[1;32m    222\u001b[0m     \u001b[0;32mdef\u001b[0m \u001b[0m__init__\u001b[0m\u001b[0;34m(\u001b[0m\u001b[0mself\u001b[0m\u001b[0;34m,\u001b[0m \u001b[0mproject\u001b[0m\u001b[0;34m=\u001b[0m\u001b[0;32mNone\u001b[0m\u001b[0;34m,\u001b[0m \u001b[0mcredentials\u001b[0m\u001b[0;34m=\u001b[0m\u001b[0;32mNone\u001b[0m\u001b[0;34m,\u001b[0m \u001b[0m_http\u001b[0m\u001b[0;34m=\u001b[0m\u001b[0;32mNone\u001b[0m\u001b[0;34m)\u001b[0m\u001b[0;34m:\u001b[0m\u001b[0;34m\u001b[0m\u001b[0;34m\u001b[0m\u001b[0m\n\u001b[1;32m    223\u001b[0m         \u001b[0m_ClientProjectMixin\u001b[0m\u001b[0;34m.\u001b[0m\u001b[0m__init__\u001b[0m\u001b[0;34m(\u001b[0m\u001b[0mself\u001b[0m\u001b[0;34m,\u001b[0m \u001b[0mproject\u001b[0m\u001b[0;34m=\u001b[0m\u001b[0mproject\u001b[0m\u001b[0;34m)\u001b[0m\u001b[0;34m\u001b[0m\u001b[0;34m\u001b[0m\u001b[0m\n\u001b[0;32m--> 224\u001b[0;31m         \u001b[0mClient\u001b[0m\u001b[0;34m.\u001b[0m\u001b[0m__init__\u001b[0m\u001b[0;34m(\u001b[0m\u001b[0mself\u001b[0m\u001b[0;34m,\u001b[0m \u001b[0mcredentials\u001b[0m\u001b[0;34m=\u001b[0m\u001b[0mcredentials\u001b[0m\u001b[0;34m,\u001b[0m \u001b[0m_http\u001b[0m\u001b[0;34m=\u001b[0m\u001b[0m_http\u001b[0m\u001b[0;34m)\u001b[0m\u001b[0;34m\u001b[0m\u001b[0;34m\u001b[0m\u001b[0m\n\u001b[0m",
      "\u001b[0;32m~/anaconda3/envs/py36/lib/python3.6/site-packages/google/cloud/client.py\u001b[0m in \u001b[0;36m__init__\u001b[0;34m(self, credentials, _http)\u001b[0m\n\u001b[1;32m    128\u001b[0m             \u001b[0;32mraise\u001b[0m \u001b[0mValueError\u001b[0m\u001b[0;34m(\u001b[0m\u001b[0m_GOOGLE_AUTH_CREDENTIALS_HELP\u001b[0m\u001b[0;34m)\u001b[0m\u001b[0;34m\u001b[0m\u001b[0;34m\u001b[0m\u001b[0m\n\u001b[1;32m    129\u001b[0m         \u001b[0;32mif\u001b[0m \u001b[0mcredentials\u001b[0m \u001b[0;32mis\u001b[0m \u001b[0;32mNone\u001b[0m \u001b[0;32mand\u001b[0m \u001b[0m_http\u001b[0m \u001b[0;32mis\u001b[0m \u001b[0;32mNone\u001b[0m\u001b[0;34m:\u001b[0m\u001b[0;34m\u001b[0m\u001b[0;34m\u001b[0m\u001b[0m\n\u001b[0;32m--> 130\u001b[0;31m             \u001b[0mcredentials\u001b[0m\u001b[0;34m,\u001b[0m \u001b[0m_\u001b[0m \u001b[0;34m=\u001b[0m \u001b[0mgoogle\u001b[0m\u001b[0;34m.\u001b[0m\u001b[0mauth\u001b[0m\u001b[0;34m.\u001b[0m\u001b[0mdefault\u001b[0m\u001b[0;34m(\u001b[0m\u001b[0;34m)\u001b[0m\u001b[0;34m\u001b[0m\u001b[0;34m\u001b[0m\u001b[0m\n\u001b[0m\u001b[1;32m    131\u001b[0m         self._credentials = google.auth.credentials.with_scopes_if_required(\n\u001b[1;32m    132\u001b[0m             \u001b[0mcredentials\u001b[0m\u001b[0;34m,\u001b[0m \u001b[0mself\u001b[0m\u001b[0;34m.\u001b[0m\u001b[0mSCOPE\u001b[0m\u001b[0;34m\u001b[0m\u001b[0;34m\u001b[0m\u001b[0m\n",
      "\u001b[0;32m~/anaconda3/envs/py36/lib/python3.6/site-packages/google/auth/_default.py\u001b[0m in \u001b[0;36mdefault\u001b[0;34m(scopes, request)\u001b[0m\n\u001b[1;32m    315\u001b[0m             \u001b[0;32mreturn\u001b[0m \u001b[0mcredentials\u001b[0m\u001b[0;34m,\u001b[0m \u001b[0meffective_project_id\u001b[0m\u001b[0;34m\u001b[0m\u001b[0;34m\u001b[0m\u001b[0m\n\u001b[1;32m    316\u001b[0m \u001b[0;34m\u001b[0m\u001b[0m\n\u001b[0;32m--> 317\u001b[0;31m     \u001b[0;32mraise\u001b[0m \u001b[0mexceptions\u001b[0m\u001b[0;34m.\u001b[0m\u001b[0mDefaultCredentialsError\u001b[0m\u001b[0;34m(\u001b[0m\u001b[0m_HELP_MESSAGE\u001b[0m\u001b[0;34m)\u001b[0m\u001b[0;34m\u001b[0m\u001b[0;34m\u001b[0m\u001b[0m\n\u001b[0m",
      "\u001b[0;31mDefaultCredentialsError\u001b[0m: Could not automatically determine credentials. Please set GOOGLE_APPLICATION_CREDENTIALS or explicitly create credentials and re-run the application. For more information, please see https://cloud.google.com/docs/authentication/getting-started"
     ]
    }
   ],
   "source": [
    "from google.cloud import bigquery\n",
    "client = bigquery.Client(project='alpha-8448e')\n",
    "query = \"SELECT  state, count(city) as City_Count FROM `alpha-8448e.USCities.Cities101` group by state;\"\n",
    "dataset = client.dataset('USCities')\n",
    "table = dataset.table(name='Cities101')\n",
    "job = client.run_async_query('my-job', query)\n",
    "job.destination = table\n",
    "job.write_disposition= 'WRITE_TRUNCATE'\n",
    "job.begin()"
   ]
  },
  {
   "cell_type": "code",
   "execution_count": null,
   "metadata": {},
   "outputs": [],
   "source": [
    " "
   ]
  },
  {
   "cell_type": "code",
   "execution_count": null,
   "metadata": {},
   "outputs": [],
   "source": []
  },
  {
   "cell_type": "code",
   "execution_count": null,
   "metadata": {},
   "outputs": [],
   "source": []
  },
  {
   "cell_type": "code",
   "execution_count": null,
   "metadata": {},
   "outputs": [],
   "source": []
  }
 ],
 "metadata": {
  "kernelspec": {
   "display_name": "Python [conda env:py36]",
   "language": "python",
   "name": "conda-env-py36-py"
  },
  "language_info": {
   "codemirror_mode": {
    "name": "ipython",
    "version": 3
   },
   "file_extension": ".py",
   "mimetype": "text/x-python",
   "name": "python",
   "nbconvert_exporter": "python",
   "pygments_lexer": "ipython3",
   "version": "3.6.7"
  }
 },
 "nbformat": 4,
 "nbformat_minor": 2
}
